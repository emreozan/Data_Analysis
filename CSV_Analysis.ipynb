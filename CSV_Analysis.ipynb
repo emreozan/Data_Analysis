{
  "nbformat": 4,
  "nbformat_minor": 0,
  "metadata": {
    "colab": {
      "name": "CSV_Analysis.ipynb",
      "provenance": []
    },
    "kernelspec": {
      "name": "python3",
      "display_name": "Python 3"
    }
  },
  "cells": [
    {
      "cell_type": "code",
      "metadata": {
        "id": "Atw_gfXu5uw1"
      },
      "source": [
        "def Data_Analyzer(file):\n",
        "  \"\"\"\n",
        "  This function takes a csv file and prints a summary of it with the vital information\n",
        "  \"\"\"\n",
        "  import pandas as pd\n",
        "\n",
        "  #First number of rows and columns\n",
        "  df=pd.read_csv(file)\n",
        "  rows=len(df)\n",
        "  columns=len(df.columns)\n",
        "\n",
        "  print(\"Given .csv file has {0} rows and {1} columns\\n\".format(rows,columns))\n",
        "\n",
        "  #Column Types\n",
        "  int_columns=0\n",
        "  float_columns=0\n",
        "  datetime_columns=0\n",
        "  string_columns=0\n",
        "  for i in df.columns:\n",
        "    if df.dtypes[i]==\"int64\":\n",
        "      int_columns+=1\n",
        "    if df.dtypes[i]==\"float64\":\n",
        "      float_columns+=1\n",
        "    if df.dtypes[i]==\"datetime64\":  #check this again\n",
        "      datetime_columns+=1\n",
        "    if df.dtypes[i]==\"object\":\n",
        "      string_columns+=1\n",
        "  print(\"Among these columns {0} of them are integer, {1} of them are float, {2} are strings and {3} of them are datetime\\n\".format(int_columns,float_columns,string_columns,datetime_columns))\n",
        "  \n",
        "  #Missing Values\n",
        "  columns_NA=0\n",
        "  for i in df.columns:\n",
        "    if df.isnull().sum()[i]!=0:\n",
        "      columns_NA+=1\n",
        "  print(\"There are {0} columns with missing values. More information regarding these columns provided below\\n\".format(columns_NA))\n",
        "\n",
        "  columns=df.columns.to_list()\n",
        "  for i in range(0,len(df.columns)):\n",
        "    if df.isnull().sum()[i]!=0:\n",
        "      print(\"The name of the column is {0}, it has {1} missing values. The missing values are {2} percent of the data for this column. The dataype is {3}\".format(columns[i],df.isnull().sum()[i],int((df.isnull().sum()[i]/len(df))*100),df.dtypes[i]))\n"
      ],
      "execution_count": null,
      "outputs": []
    }
  ]
}